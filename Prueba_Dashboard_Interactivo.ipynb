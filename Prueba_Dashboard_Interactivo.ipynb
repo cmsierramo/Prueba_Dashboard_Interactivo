{
  "nbformat": 4,
  "nbformat_minor": 0,
  "metadata": {
    "colab": {
      "name": "Prueba_Dashboard_Interactivo.ipynb",
      "provenance": [],
      "authorship_tag": "ABX9TyPfNQnKY5bMOrDQpGMmgxtp",
      "include_colab_link": true
    },
    "kernelspec": {
      "name": "python3",
      "display_name": "Python 3"
    }
  },
  "cells": [
    {
      "cell_type": "markdown",
      "metadata": {
        "id": "view-in-github",
        "colab_type": "text"
      },
      "source": [
        "<a href=\"https://colab.research.google.com/github/cmsierramo/Prueba_Dashboard_Interactivo/blob/master/Prueba_Dashboard_Interactivo.ipynb\" target=\"_parent\"><img src=\"https://colab.research.google.com/assets/colab-badge.svg\" alt=\"Open In Colab\"/></a>"
      ]
    },
    {
      "cell_type": "code",
      "metadata": {
        "id": "WxGepOiSKh9Q",
        "colab_type": "code",
        "colab": {}
      },
      "source": [
        "!mkdir -p 1"
      ],
      "execution_count": 1,
      "outputs": []
    },
    {
      "cell_type": "code",
      "metadata": {
        "id": "U0TsDLmHK8XL",
        "colab_type": "code",
        "colab": {
          "base_uri": "https://localhost:8080/",
          "height": 34
        },
        "outputId": "dd175e62-c4d4-4488-81b1-db1b4b733401"
      },
      "source": [
        "%%writefile 1/app.py\n",
        "\n",
        "from flask import Flask\n",
        "app = Flask(__name__)     # nombre del modulo o paquete\n",
        "\n",
        "@app.route('/')           # indica que dirección dispara la función\n",
        "@app.route('/index')\n",
        "def hello():\n",
        "    return \"Hola Mundo Cruel!\"\n",
        "\n",
        "if __name__ == \"__main__\":\n",
        "    app.run(host='0.0.0.0', debug=True)"
      ],
      "execution_count": 5,
      "outputs": [
        {
          "output_type": "stream",
          "text": [
            "Overwriting 1/app.py\n"
          ],
          "name": "stdout"
        }
      ]
    },
    {
      "cell_type": "markdown",
      "metadata": {
        "id": "ov9Bt_mkLry3",
        "colab_type": "text"
      },
      "source": [
        "**VERSION 2**"
      ]
    },
    {
      "cell_type": "code",
      "metadata": {
        "id": "V46SEkX5LuQy",
        "colab_type": "code",
        "colab": {}
      },
      "source": [
        "!mkdir -p 2\n",
        "!mkdir -p 2/templates"
      ],
      "execution_count": 3,
      "outputs": []
    },
    {
      "cell_type": "code",
      "metadata": {
        "id": "Q2xU2xgHL_ez",
        "colab_type": "code",
        "colab": {}
      },
      "source": [
        "\n",
        "%%writefile 2/templates/index.html\n",
        "\n",
        "<!DOCTYPE html>\n",
        "<html lang=\"en\">\n",
        "    <head>\n",
        "        <meta charset=\"utf-8\">\n",
        "        <title>Telephones</title>\n",
        "    </head>\n",
        "    <body>\n",
        "\n",
        "        <!--- Menu de seleccion al lado izquierdo --->\n",
        "        <nav>\n",
        "            <form id='myDialog' method=\"POST\">\n",
        "                <p>Region:</p>\n",
        "\n",
        "                <!--- onchange llama la función cuando el elemento cambia --->\n",
        "                <select id=\"region\" name=\"region\"  onchange=\"submitData()\">\n",
        "\n",
        "                    <option value=\"N.Amer\">N.Amer</option>\n",
        "                    <option value=\"Europe\">Europe</option>\n",
        "                    <option value=\"Asia\">Asia</option>\n",
        "                    <option value=\"S.Amer\">S.Amer</option>\n",
        "                    <option value=\"Oceania\">Oceania</option>\n",
        "                    <option value=\"Africa\">Africa</option>\n",
        "                    <option value=\"Mid.Amer\">Mid.Amer</option>\n",
        "\n",
        "                </select>\n",
        "            </form>\n",
        "        </nav>\n",
        "\n",
        "        <!--- imprime la región seleccionada --->\n",
        "        {% for message in get_flashed_messages() %}\n",
        "            <p> {{ message }} </p>\n",
        "        {% endfor %}\n",
        "\n",
        "        <!--- remite la información del dialogo al servidor --->\n",
        "        <script>\n",
        "            function submitData() {\n",
        "                document.getElementById(\"myDialog\").submit()\n",
        "            }\n",
        "        </script>\n",
        "    </body>\n",
        "</html>"
      ],
      "execution_count": null,
      "outputs": []
    },
    {
      "cell_type": "code",
      "metadata": {
        "id": "aYHlt1gLMuFd",
        "colab_type": "code",
        "colab": {
          "base_uri": "https://localhost:8080/",
          "height": 34
        },
        "outputId": "d2979193-709f-4d21-9759-a139ce6c5976"
      },
      "source": [
        "%%writefile 2/app.py\n",
        "\n",
        "from flask import Flask, request, flash, render_template\n",
        "app = Flask(__name__)\n",
        "app.config['SECRET_KEY'] = 'you-will-never-guess'\n",
        "\n",
        "@app.route('/', methods=('GET', 'POST'))\n",
        "@app.route('/index', methods=('GET', 'POST'))\n",
        "def index():\n",
        "\n",
        "    selected = None\n",
        "\n",
        "    if request.method == 'POST':\n",
        "        selected = request.form['region']\n",
        "        flash(selected)\n",
        "\n",
        "    return render_template('index.html')\n",
        "\n",
        "if __name__ == \"__main__\":\n",
        "    app.run(host='0.0.0.0', debug=True)"
      ],
      "execution_count": 8,
      "outputs": [
        {
          "output_type": "stream",
          "text": [
            "Writing 2/app.py\n"
          ],
          "name": "stdout"
        }
      ]
    },
    {
      "cell_type": "markdown",
      "metadata": {
        "id": "7ALNrqn9M_Tn",
        "colab_type": "text"
      },
      "source": [
        "**VERSION 3 LOGICA DEL MENU Y DATOS**"
      ]
    },
    {
      "cell_type": "code",
      "metadata": {
        "id": "m-ethBTANFSK",
        "colab_type": "code",
        "colab": {}
      },
      "source": [
        "!mkdir -p 3\n",
        "!mkdir -p 3/templates"
      ],
      "execution_count": 9,
      "outputs": []
    },
    {
      "cell_type": "code",
      "metadata": {
        "id": "uSSheo-0NO4l",
        "colab_type": "code",
        "colab": {}
      },
      "source": [
        "%%writefile 3/app.py\n",
        "\n",
        "\n",
        "#---------------------------------------------------------------------------\n",
        "#\n",
        "# Datos\n",
        "#\n",
        "import pandas as pd\n",
        "\n",
        "data = [[45939, 21574, 2876, 1815, 1646,   89,  555],\n",
        "        [60423, 29990, 4708, 2568, 2366, 1411,  733],\n",
        "        [64721, 32510, 5230, 2695, 2526, 1546,  773],\n",
        "        [68484, 35218, 6662, 2845, 2691, 1663,  836],\n",
        "        [71799, 37598, 6856, 3000, 2868, 1769,  911],\n",
        "        [76036, 40341, 8220, 3145, 3054, 1905, 1008],\n",
        "        [79831, 43173, 9053, 3338, 3224, 2005, 1076]]\n",
        "\n",
        "data = pd.DataFrame(\n",
        "    data = data,\n",
        "    index = [1951, 1956, 1957, 1958, 1959, 1960, 1961],\n",
        "    columns = ['N.Amer', 'Europe', 'Asia', 'S.Amer', 'Oceania', 'Africa', 'Mid.Amer']\n",
        ")\n",
        "#---------------------------------------------------------------------------\n",
        "\n",
        "from flask import Flask, request, flash, render_template\n",
        "app = Flask(__name__)\n",
        "app.config['SECRET_KEY'] = 'you-will-never-guess'\n",
        "\n",
        "@app.route('/', methods=('GET', 'POST'))\n",
        "@app.route('/index', methods=('GET', 'POST'))\n",
        "def index():\n",
        "\n",
        "    selected = data.columns.tolist()[0]\n",
        "\n",
        "    if request.method == 'POST':\n",
        "        selected = request.form['region']\n",
        "        flash(selected)\n",
        "\n",
        "    return render_template(\n",
        "        'index.html',\n",
        "        regions=data.columns.tolist(), # nombres de las regiones\n",
        "        selected=selected)             # columna seleccionada)\n",
        "\n",
        "if __name__ == \"__main__\":\n",
        "    app.run(host='0.0.0.0', debug=True)"
      ],
      "execution_count": null,
      "outputs": []
    },
    {
      "cell_type": "code",
      "metadata": {
        "id": "z5sb3sqPORWz",
        "colab_type": "code",
        "colab": {
          "base_uri": "https://localhost:8080/",
          "height": 34
        },
        "outputId": "ffda90cc-cac8-48a1-e81d-e80397f35000"
      },
      "source": [
        "%%writefile 3/templates/index.html\n",
        "\n",
        "<!DOCTYPE html>\n",
        "<html lang=\"en\">\n",
        "    <head>\n",
        "        <meta charset=\"utf-8\">\n",
        "        <title>Telephones</title>\n",
        "    </head>\n",
        "    <body>\n",
        "\n",
        "        <!--- Menu de seleccion al lado izquierdo --->\n",
        "        <nav>\n",
        "            <form id='myDialog' method=\"POST\">\n",
        "                <p>Region:</p>\n",
        "\n",
        "                <!--- onchange llama la función cuando el elemento cambia --->\n",
        "                <select id=\"region\" name=\"region\"  onchange=\"submitData()\">\n",
        "\n",
        "                    {% for i in regions %}\n",
        "                        {% if i == selected %}\n",
        "                            <option value=\"{{ i }}\" selected>{{ i }}</option>\n",
        "                        {% else %}\n",
        "                            <option value=\"{{ i }}\">{{ i }}</option>\n",
        "                        {% endif %}\n",
        "                    {% endfor %}\n",
        "\n",
        "                </select>\n",
        "            </form>\n",
        "        </nav>\n",
        "\n",
        "        <!--- imprime la región seleccionada --->\n",
        "        {% for message in get_flashed_messages() %}\n",
        "            <p> {{ message }} </p>\n",
        "        {% endfor %}\n",
        "\n",
        "        <!--- remite la información del dialogo al servidor --->\n",
        "        <script>\n",
        "            function submitData() {\n",
        "                document.getElementById(\"myDialog\").submit()\n",
        "            }\n",
        "        </script>\n",
        "    </body>\n",
        "</html>"
      ],
      "execution_count": 12,
      "outputs": [
        {
          "output_type": "stream",
          "text": [
            "Writing 3/templates/index.html\n"
          ],
          "name": "stdout"
        }
      ]
    },
    {
      "cell_type": "markdown",
      "metadata": {
        "id": "SLdNj-TpOWfL",
        "colab_type": "text"
      },
      "source": [
        "**VERSION 4 COMPUTOS Y GRAFICA**"
      ]
    },
    {
      "cell_type": "code",
      "metadata": {
        "id": "MwIVdGnnOVhs",
        "colab_type": "code",
        "colab": {}
      },
      "source": [
        "!mkdir -p 4\n",
        "!mkdir -p 4/templates\n",
        "!mkdir -p 4/static"
      ],
      "execution_count": 13,
      "outputs": []
    },
    {
      "cell_type": "code",
      "metadata": {
        "id": "ITBhAnOgOlnK",
        "colab_type": "code",
        "colab": {}
      },
      "source": [
        "%%writefile 4/app.py\n",
        "\n",
        "#---------------------------------------------------------------------------\n",
        "#\n",
        "# Datos\n",
        "#\n",
        "import pandas as pd\n",
        "\n",
        "import io\n",
        "\n",
        "data = [[45939, 21574, 2876, 1815, 1646,   89,  555],\n",
        "        [60423, 29990, 4708, 2568, 2366, 1411,  733],\n",
        "        [64721, 32510, 5230, 2695, 2526, 1546,  773],\n",
        "        [68484, 35218, 6662, 2845, 2691, 1663,  836],\n",
        "        [71799, 37598, 6856, 3000, 2868, 1769,  911],\n",
        "        [76036, 40341, 8220, 3145, 3054, 1905, 1008],\n",
        "        [79831, 43173, 9053, 3338, 3224, 2005, 1076]]\n",
        "\n",
        "data = pd.DataFrame(\n",
        "    data = data,\n",
        "    index = [1951, 1956, 1957, 1958, 1959, 1960, 1961],\n",
        "    columns = ['N.Amer', 'Europe', 'Asia', 'S.Amer', 'Oceania', 'Africa', 'Mid.Amer']\n",
        ")\n",
        "#---------------------------------------------------------------------------\n",
        "\n",
        "from flask import Flask, request, flash, render_template, g, session, send_file\n",
        "app = Flask(__name__)\n",
        "app.config['SECRET_KEY'] = 'you-will-never-guess'\n",
        "\n",
        "import matplotlib.pyplot as plt\n",
        "\n",
        "\n",
        "@app.route('/', methods=['GET', 'POST'])\n",
        "@app.route('/index', methods=('GET', 'POST'))\n",
        "def index():\n",
        "\n",
        "    session['selected'] = data.columns.tolist()[0]\n",
        "\n",
        "    if request.method == 'POST':\n",
        "        session['selected'] = request.form['region']\n",
        "        flash(session['selected'])\n",
        "\n",
        "    return render_template(\n",
        "        'index.html',\n",
        "        regions=data.columns.tolist(), # nombres de las regiones\n",
        "        selected=session['selected'])  # columna seleccionada)\n",
        "\n",
        "\n",
        "@app.route('/plot0', methods=['GET'])\n",
        "def plot0():\n",
        "\n",
        "    selected = session['selected']\n",
        "\n",
        "    plt.clf()\n",
        "    plt.bar(\n",
        "        x = list(data.index),\n",
        "        height = data[selected])\n",
        "    plt.title(selected)\n",
        "\n",
        "    plot_obj = io.BytesIO()\n",
        "    plt.savefig(plot_obj, format='png')\n",
        "    plot_obj.seek(0)\n",
        "\n",
        "    return send_file(\n",
        "        plot_obj,\n",
        "        attachment_filename='plot.png',\n",
        "        mimetype='image/png')\n",
        "\n",
        "\n",
        "if __name__ == \"__main__\":\n",
        "    app.config['TEMPLATES_AUTO_RELOAD'] = True\n",
        "    app.jinja_env.auto_reload = True\n",
        "    app.run(host='0.0.0.0', debug=True)"
      ],
      "execution_count": null,
      "outputs": []
    },
    {
      "cell_type": "code",
      "metadata": {
        "id": "4Xi05SujOs5J",
        "colab_type": "code",
        "colab": {
          "base_uri": "https://localhost:8080/",
          "height": 34
        },
        "outputId": "91887448-b4b2-4af1-cefe-dc5a122007fb"
      },
      "source": [
        "%%writefile 4/templates/index.html\n",
        "\n",
        "<!DOCTYPE html>\n",
        "<html lang=\"en\">\n",
        "    <head>\n",
        "        <meta charset=\"utf-8\">\n",
        "        <title>Telephones</title>\n",
        "    </head>\n",
        "    <body>\n",
        "\n",
        "        <!--- Menu de seleccion al lado izquierdo --->\n",
        "        <nav>\n",
        "            <form id='myDialog' method=\"POST\">\n",
        "                <p>Region:</p>\n",
        "\n",
        "                <!--- onchange llama la función cuando el elemento cambia --->\n",
        "                <select id=\"region\" name=\"region\"  onchange=\"submitData()\">\n",
        "\n",
        "                    {% for i in regions %}\n",
        "                        {% if i == selected %}\n",
        "                            <option value=\"{{ i }}\" selected>{{ i }}</option>\n",
        "                        {% else %}\n",
        "                            <option value=\"{{ i }}\">{{ i }}</option>\n",
        "                        {% endif %}\n",
        "                    {% endfor %}\n",
        "\n",
        "                </select>\n",
        "            </form>\n",
        "        </nav>\n",
        "\n",
        "        <!--- Grafica --->\n",
        "        <div>\n",
        "            <img src=\"http://0.0.0.0:5000/plot0\" />\n",
        "        </div>\n",
        "\n",
        "        <!--- imprime la región seleccionada --->\n",
        "        {% for message in get_flashed_messages() %}\n",
        "            <p> {{ message }} </p>\n",
        "        {% endfor %}\n",
        "\n",
        "        <!--- remite la información del dialogo al servidor --->\n",
        "        <script>\n",
        "            function submitData() {\n",
        "                document.getElementById(\"myDialog\").submit()\n",
        "            }\n",
        "        </script>\n",
        "    </body>\n",
        "</html>"
      ],
      "execution_count": 15,
      "outputs": [
        {
          "output_type": "stream",
          "text": [
            "Writing 4/templates/index.html\n"
          ],
          "name": "stdout"
        }
      ]
    }
  ]
}